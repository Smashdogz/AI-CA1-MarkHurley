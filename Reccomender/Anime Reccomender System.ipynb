{
 "cells": [
  {
   "cell_type": "code",
   "execution_count": 1,
   "id": "f79270ba",
   "metadata": {},
   "outputs": [
    {
     "data": {
      "text/html": [
       "<div>\n",
       "<style scoped>\n",
       "    .dataframe tbody tr th:only-of-type {\n",
       "        vertical-align: middle;\n",
       "    }\n",
       "\n",
       "    .dataframe tbody tr th {\n",
       "        vertical-align: top;\n",
       "    }\n",
       "\n",
       "    .dataframe thead th {\n",
       "        text-align: right;\n",
       "    }\n",
       "</style>\n",
       "<table border=\"1\" class=\"dataframe\">\n",
       "  <thead>\n",
       "    <tr style=\"text-align: right;\">\n",
       "      <th></th>\n",
       "      <th>MAL_ID</th>\n",
       "      <th>Name</th>\n",
       "      <th>Score</th>\n",
       "      <th>Genres</th>\n",
       "      <th>English name</th>\n",
       "      <th>Japanese name</th>\n",
       "      <th>Type</th>\n",
       "      <th>Episodes</th>\n",
       "      <th>Aired</th>\n",
       "      <th>Premiered</th>\n",
       "      <th>...</th>\n",
       "      <th>Score-10</th>\n",
       "      <th>Score-9</th>\n",
       "      <th>Score-8</th>\n",
       "      <th>Score-7</th>\n",
       "      <th>Score-6</th>\n",
       "      <th>Score-5</th>\n",
       "      <th>Score-4</th>\n",
       "      <th>Score-3</th>\n",
       "      <th>Score-2</th>\n",
       "      <th>Score-1</th>\n",
       "    </tr>\n",
       "  </thead>\n",
       "  <tbody>\n",
       "    <tr>\n",
       "      <th>0</th>\n",
       "      <td>1</td>\n",
       "      <td>Cowboy Bebop</td>\n",
       "      <td>8.78</td>\n",
       "      <td>Action, Adventure, Comedy, Drama, Sci-Fi, Space</td>\n",
       "      <td>Cowboy Bebop</td>\n",
       "      <td>カウボーイビバップ</td>\n",
       "      <td>TV</td>\n",
       "      <td>26</td>\n",
       "      <td>Apr 3, 1998 to Apr 24, 1999</td>\n",
       "      <td>Spring 1998</td>\n",
       "      <td>...</td>\n",
       "      <td>229170</td>\n",
       "      <td>182126</td>\n",
       "      <td>131625</td>\n",
       "      <td>62330</td>\n",
       "      <td>20688</td>\n",
       "      <td>8904</td>\n",
       "      <td>3184</td>\n",
       "      <td>1357</td>\n",
       "      <td>741</td>\n",
       "      <td>1580</td>\n",
       "    </tr>\n",
       "    <tr>\n",
       "      <th>1</th>\n",
       "      <td>5</td>\n",
       "      <td>Cowboy Bebop: Tengoku no Tobira</td>\n",
       "      <td>8.39</td>\n",
       "      <td>Action, Drama, Mystery, Sci-Fi, Space</td>\n",
       "      <td>Cowboy Bebop:The Movie</td>\n",
       "      <td>カウボーイビバップ 天国の扉</td>\n",
       "      <td>Movie</td>\n",
       "      <td>1</td>\n",
       "      <td>Sep 1, 2001</td>\n",
       "      <td>4</td>\n",
       "      <td>...</td>\n",
       "      <td>30043</td>\n",
       "      <td>49201</td>\n",
       "      <td>49505</td>\n",
       "      <td>22632</td>\n",
       "      <td>5805</td>\n",
       "      <td>1877</td>\n",
       "      <td>577</td>\n",
       "      <td>221</td>\n",
       "      <td>109</td>\n",
       "      <td>379</td>\n",
       "    </tr>\n",
       "    <tr>\n",
       "      <th>2</th>\n",
       "      <td>6</td>\n",
       "      <td>Trigun</td>\n",
       "      <td>8.24</td>\n",
       "      <td>Action, Sci-Fi, Adventure, Comedy, Drama, Shounen</td>\n",
       "      <td>Trigun</td>\n",
       "      <td>トライガン</td>\n",
       "      <td>TV</td>\n",
       "      <td>26</td>\n",
       "      <td>Apr 1, 1998 to Sep 30, 1998</td>\n",
       "      <td>Spring 1998</td>\n",
       "      <td>...</td>\n",
       "      <td>50229</td>\n",
       "      <td>75651</td>\n",
       "      <td>86142</td>\n",
       "      <td>49432</td>\n",
       "      <td>15376</td>\n",
       "      <td>5838</td>\n",
       "      <td>1965</td>\n",
       "      <td>664</td>\n",
       "      <td>316</td>\n",
       "      <td>533</td>\n",
       "    </tr>\n",
       "  </tbody>\n",
       "</table>\n",
       "<p>3 rows × 35 columns</p>\n",
       "</div>"
      ],
      "text/plain": [
       "   MAL_ID                             Name  Score  \\\n",
       "0       1                     Cowboy Bebop   8.78   \n",
       "1       5  Cowboy Bebop: Tengoku no Tobira   8.39   \n",
       "2       6                           Trigun   8.24   \n",
       "\n",
       "                                              Genres            English name  \\\n",
       "0    Action, Adventure, Comedy, Drama, Sci-Fi, Space            Cowboy Bebop   \n",
       "1              Action, Drama, Mystery, Sci-Fi, Space  Cowboy Bebop:The Movie   \n",
       "2  Action, Sci-Fi, Adventure, Comedy, Drama, Shounen                  Trigun   \n",
       "\n",
       "    Japanese name   Type  Episodes                        Aired    Premiered  \\\n",
       "0       カウボーイビバップ     TV        26  Apr 3, 1998 to Apr 24, 1999  Spring 1998   \n",
       "1  カウボーイビバップ 天国の扉  Movie         1                  Sep 1, 2001            4   \n",
       "2           トライガン     TV        26  Apr 1, 1998 to Sep 30, 1998  Spring 1998   \n",
       "\n",
       "   ... Score-10 Score-9 Score-8 Score-7 Score-6 Score-5  Score-4  Score-3  \\\n",
       "0  ...   229170  182126  131625   62330   20688    8904     3184     1357   \n",
       "1  ...    30043   49201   49505   22632    5805    1877      577      221   \n",
       "2  ...    50229   75651   86142   49432   15376    5838     1965      664   \n",
       "\n",
       "   Score-2  Score-1  \n",
       "0      741     1580  \n",
       "1      109      379  \n",
       "2      316      533  \n",
       "\n",
       "[3 rows x 35 columns]"
      ]
     },
     "execution_count": 1,
     "metadata": {},
     "output_type": "execute_result"
    }
   ],
   "source": [
    "# Import Pandas\n",
    "import pandas as pd\n",
    "\n",
    "#This loads the anime Metadata\n",
    "metadata = pd.read_csv('anime.csv', low_memory=False)\n",
    "\n",
    "#This prints the first three rows of the dataset\n",
    "metadata.head(3)"
   ]
  },
  {
   "cell_type": "code",
   "execution_count": null,
   "id": "6910ec4f",
   "metadata": {},
   "outputs": [],
   "source": []
  },
  {
   "cell_type": "code",
   "execution_count": 2,
   "id": "a4226a37",
   "metadata": {},
   "outputs": [
    {
     "name": "stdout",
     "output_type": "stream",
     "text": [
      "7103.482860722013\n"
     ]
    }
   ],
   "source": [
    "# This calculates the mean of the ranked column\n",
    "C = metadata['Ranked'].mean()\n",
    "print(C)"
   ]
  },
  {
   "cell_type": "code",
   "execution_count": 3,
   "id": "36e17889",
   "metadata": {},
   "outputs": [
    {
     "name": "stdout",
     "output_type": "stream",
     "text": [
      "7.45\n"
     ]
    }
   ],
   "source": [
    "# This calculates the score column of the 90th percentile, m\n",
    "m = metadata['Score'].quantile(0.90)\n",
    "print(m)"
   ]
  },
  {
   "cell_type": "code",
   "execution_count": 4,
   "id": "d6f58772",
   "metadata": {},
   "outputs": [
    {
     "data": {
      "text/plain": [
       "(1764, 35)"
      ]
     },
     "execution_count": 4,
     "metadata": {},
     "output_type": "execute_result"
    }
   ],
   "source": [
    "#This filters out all scores that are greater than or equal to 7.45 into a new DataFrame\n",
    "q_anime = metadata.copy().loc[metadata['Score'] >= m]\n",
    "q_anime.shape"
   ]
  },
  {
   "cell_type": "code",
   "execution_count": 5,
   "id": "aac963a6",
   "metadata": {},
   "outputs": [
    {
     "data": {
      "text/plain": [
       "(17562, 35)"
      ]
     },
     "execution_count": 5,
     "metadata": {},
     "output_type": "execute_result"
    }
   ],
   "source": [
    "metadata.shape"
   ]
  },
  {
   "cell_type": "code",
   "execution_count": 6,
   "id": "77c7a8ca",
   "metadata": {},
   "outputs": [],
   "source": [
    "#This is a function that computes the weighted rating of each anime\n",
    "def weighted_rating(x, m=m, C=C):\n",
    "    v = x['Ranked']\n",
    "    R = x['Score']\n",
    "    \n",
    "    return (v/(v+m) * R) + (m/(m+v) * C)"
   ]
  },
  {
   "cell_type": "code",
   "execution_count": 7,
   "id": "2b3373cb",
   "metadata": {},
   "outputs": [],
   "source": [
    "#This defines a new feature known as 'favourites' and calculate its value with a `weighted_rating()`\n",
    "q_anime['Favourites'] = q_anime.apply(weighted_rating, axis=1)"
   ]
  },
  {
   "cell_type": "code",
   "execution_count": 8,
   "id": "ba0c5d96",
   "metadata": {},
   "outputs": [
    {
     "data": {
      "text/html": [
       "<div>\n",
       "<style scoped>\n",
       "    .dataframe tbody tr th:only-of-type {\n",
       "        vertical-align: middle;\n",
       "    }\n",
       "\n",
       "    .dataframe tbody tr th {\n",
       "        vertical-align: top;\n",
       "    }\n",
       "\n",
       "    .dataframe thead th {\n",
       "        text-align: right;\n",
       "    }\n",
       "</style>\n",
       "<table border=\"1\" class=\"dataframe\">\n",
       "  <thead>\n",
       "    <tr style=\"text-align: right;\">\n",
       "      <th></th>\n",
       "      <th>Name</th>\n",
       "      <th>Score</th>\n",
       "      <th>Ranked</th>\n",
       "      <th>Favorites</th>\n",
       "    </tr>\n",
       "  </thead>\n",
       "  <tbody>\n",
       "    <tr>\n",
       "      <th>3971</th>\n",
       "      <td>Fullmetal Alchemist: Brotherhood</td>\n",
       "      <td>9.19</td>\n",
       "      <td>1</td>\n",
       "      <td>183914</td>\n",
       "    </tr>\n",
       "    <tr>\n",
       "      <th>15926</th>\n",
       "      <td>Shingeki no Kyojin: The Final Season</td>\n",
       "      <td>9.17</td>\n",
       "      <td>2</td>\n",
       "      <td>44862</td>\n",
       "    </tr>\n",
       "    <tr>\n",
       "      <th>5683</th>\n",
       "      <td>Steins;Gate</td>\n",
       "      <td>9.11</td>\n",
       "      <td>3</td>\n",
       "      <td>148452</td>\n",
       "    </tr>\n",
       "    <tr>\n",
       "      <th>14963</th>\n",
       "      <td>Shingeki no Kyojin Season 3 Part 2</td>\n",
       "      <td>9.10</td>\n",
       "      <td>4</td>\n",
       "      <td>40985</td>\n",
       "    </tr>\n",
       "    <tr>\n",
       "      <th>9913</th>\n",
       "      <td>Gintama°</td>\n",
       "      <td>9.10</td>\n",
       "      <td>5</td>\n",
       "      <td>11868</td>\n",
       "    </tr>\n",
       "    <tr>\n",
       "      <th>6474</th>\n",
       "      <td>Hunter x Hunter (2011)</td>\n",
       "      <td>9.10</td>\n",
       "      <td>6</td>\n",
       "      <td>147274</td>\n",
       "    </tr>\n",
       "    <tr>\n",
       "      <th>6006</th>\n",
       "      <td>Gintama'</td>\n",
       "      <td>9.08</td>\n",
       "      <td>7</td>\n",
       "      <td>6567</td>\n",
       "    </tr>\n",
       "    <tr>\n",
       "      <th>741</th>\n",
       "      <td>Ginga Eiyuu Densetsu</td>\n",
       "      <td>9.07</td>\n",
       "      <td>8</td>\n",
       "      <td>13834</td>\n",
       "    </tr>\n",
       "    <tr>\n",
       "      <th>7261</th>\n",
       "      <td>Gintama': Enchousen</td>\n",
       "      <td>9.04</td>\n",
       "      <td>9</td>\n",
       "      <td>2586</td>\n",
       "    </tr>\n",
       "    <tr>\n",
       "      <th>12898</th>\n",
       "      <td>3-gatsu no Lion 2nd Season</td>\n",
       "      <td>9.00</td>\n",
       "      <td>10</td>\n",
       "      <td>11133</td>\n",
       "    </tr>\n",
       "    <tr>\n",
       "      <th>9886</th>\n",
       "      <td>Koe no Katachi</td>\n",
       "      <td>9.00</td>\n",
       "      <td>11</td>\n",
       "      <td>62452</td>\n",
       "    </tr>\n",
       "    <tr>\n",
       "      <th>12242</th>\n",
       "      <td>Gintama.</td>\n",
       "      <td>8.99</td>\n",
       "      <td>12</td>\n",
       "      <td>2397</td>\n",
       "    </tr>\n",
       "    <tr>\n",
       "      <th>833</th>\n",
       "      <td>Gintama</td>\n",
       "      <td>8.96</td>\n",
       "      <td>13</td>\n",
       "      <td>48247</td>\n",
       "    </tr>\n",
       "    <tr>\n",
       "      <th>7249</th>\n",
       "      <td>Gintama Movie 2: Kanketsu-hen - Yorozuya yo Ei...</td>\n",
       "      <td>8.96</td>\n",
       "      <td>14</td>\n",
       "      <td>2184</td>\n",
       "    </tr>\n",
       "    <tr>\n",
       "      <th>3537</th>\n",
       "      <td>Clannad: After Story</td>\n",
       "      <td>8.96</td>\n",
       "      <td>15</td>\n",
       "      <td>62162</td>\n",
       "    </tr>\n",
       "  </tbody>\n",
       "</table>\n",
       "</div>"
      ],
      "text/plain": [
       "                                                    Name  Score  Ranked  \\\n",
       "3971                    Fullmetal Alchemist: Brotherhood   9.19       1   \n",
       "15926               Shingeki no Kyojin: The Final Season   9.17       2   \n",
       "5683                                         Steins;Gate   9.11       3   \n",
       "14963                 Shingeki no Kyojin Season 3 Part 2   9.10       4   \n",
       "9913                                            Gintama°   9.10       5   \n",
       "6474                              Hunter x Hunter (2011)   9.10       6   \n",
       "6006                                            Gintama'   9.08       7   \n",
       "741                                 Ginga Eiyuu Densetsu   9.07       8   \n",
       "7261                                 Gintama': Enchousen   9.04       9   \n",
       "12898                         3-gatsu no Lion 2nd Season   9.00      10   \n",
       "9886                                      Koe no Katachi   9.00      11   \n",
       "12242                                           Gintama.   8.99      12   \n",
       "833                                              Gintama   8.96      13   \n",
       "7249   Gintama Movie 2: Kanketsu-hen - Yorozuya yo Ei...   8.96      14   \n",
       "3537                                Clannad: After Story   8.96      15   \n",
       "\n",
       "       Favorites  \n",
       "3971      183914  \n",
       "15926      44862  \n",
       "5683      148452  \n",
       "14963      40985  \n",
       "9913       11868  \n",
       "6474      147274  \n",
       "6006        6567  \n",
       "741        13834  \n",
       "7261        2586  \n",
       "12898      11133  \n",
       "9886       62452  \n",
       "12242       2397  \n",
       "833        48247  \n",
       "7249        2184  \n",
       "3537       62162  "
      ]
     },
     "execution_count": 8,
     "metadata": {},
     "output_type": "execute_result"
    }
   ],
   "source": [
    "#This sorts anime based on the score that was calculated above\n",
    "q_anime = q_anime.sort_values('Score', ascending=False)\n",
    "\n",
    "#This prints the top 15 animes name, score, rank and favourites\n",
    "q_anime[['Name', 'Score', 'Ranked', 'Favorites']].head(15)"
   ]
  },
  {
   "cell_type": "code",
   "execution_count": 9,
   "id": "803fc21b",
   "metadata": {},
   "outputs": [
    {
     "data": {
      "text/plain": [
       "0      Action, Adventure, Comedy, Drama, Sci-Fi, Space\n",
       "1                Action, Drama, Mystery, Sci-Fi, Space\n",
       "2    Action, Sci-Fi, Adventure, Comedy, Drama, Shounen\n",
       "3    Action, Mystery, Police, Supernatural, Drama, ...\n",
       "4            Adventure, Fantasy, Shounen, Supernatural\n",
       "Name: Genres, dtype: object"
      ]
     },
     "execution_count": 9,
     "metadata": {},
     "output_type": "execute_result"
    }
   ],
   "source": [
    "#This prints the genres of the first 5 animes.\n",
    "metadata['Genres'].head()"
   ]
  },
  {
   "cell_type": "code",
   "execution_count": 10,
   "id": "b592f356",
   "metadata": {},
   "outputs": [
    {
     "data": {
      "text/plain": [
       "(17562, 15509)"
      ]
     },
     "execution_count": 10,
     "metadata": {},
     "output_type": "execute_result"
    }
   ],
   "source": [
    "#This imports the TfIdfVectorizer from scikit-learn\n",
    "from sklearn.feature_extraction.text import TfidfVectorizer\n",
    "\n",
    "#This defines a TF-IDF Vectorizer Object and removes all english stop words such as 'the', 'a'\n",
    "tfidf = TfidfVectorizer(stop_words='english')\n",
    "\n",
    "#This replaces NaN with an empty string\n",
    "metadata['Name'] = metadata['Name'].fillna('')\n",
    "\n",
    "#This constructs the required TF-IDF matrix by fitting and transforming the data\n",
    "tfidf_matrix = tfidf.fit_transform(metadata['Name'])\n",
    "\n",
    "#This outputs the shape of tfidf_matrix\n",
    "tfidf_matrix.shape"
   ]
  },
  {
   "cell_type": "code",
   "execution_count": 11,
   "id": "eb90957a",
   "metadata": {},
   "outputs": [
    {
     "data": {
      "text/plain": [
       "['higan',\n",
       " 'higanjima',\n",
       " 'higashi',\n",
       " 'hige',\n",
       " 'higeki',\n",
       " 'higenashi',\n",
       " 'higepiyo',\n",
       " 'high',\n",
       " 'highlander',\n",
       " 'highlights']"
      ]
     },
     "execution_count": 11,
     "metadata": {},
     "output_type": "execute_result"
    }
   ],
   "source": [
    "#This is an array mapping each feature integer indice to its feature name.\n",
    "tfidf.get_feature_names()[5000:5010]"
   ]
  },
  {
   "cell_type": "code",
   "execution_count": 12,
   "id": "b81a847e",
   "metadata": {},
   "outputs": [],
   "source": [
    "#This imports the linear_kernel\n",
    "from sklearn.metrics.pairwise import linear_kernel\n",
    "\n",
    "#This computes the cosine similarity matrix\n",
    "cosine_sim = linear_kernel(tfidf_matrix, tfidf_matrix)"
   ]
  },
  {
   "cell_type": "code",
   "execution_count": 13,
   "id": "d2c3a9b7",
   "metadata": {},
   "outputs": [
    {
     "data": {
      "text/plain": [
       "(17562, 17562)"
      ]
     },
     "execution_count": 13,
     "metadata": {},
     "output_type": "execute_result"
    }
   ],
   "source": [
    "cosine_sim.shape"
   ]
  },
  {
   "cell_type": "code",
   "execution_count": 14,
   "id": "aa902a9b",
   "metadata": {},
   "outputs": [
    {
     "data": {
      "text/plain": [
       "array([0.71381058, 1.        , 0.        , ..., 0.        , 0.        ,\n",
       "       0.        ])"
      ]
     },
     "execution_count": 14,
     "metadata": {},
     "output_type": "execute_result"
    }
   ],
   "source": [
    "cosine_sim[1]"
   ]
  },
  {
   "cell_type": "code",
   "execution_count": 15,
   "id": "422b5655",
   "metadata": {},
   "outputs": [],
   "source": [
    "#This makes a reverse map of indices and anime names\n",
    "indices = pd.Series(metadata.index, index=metadata['Name']).drop_duplicates()"
   ]
  },
  {
   "cell_type": "code",
   "execution_count": 16,
   "id": "d41c6f21",
   "metadata": {},
   "outputs": [
    {
     "data": {
      "text/plain": [
       "Name\n",
       "Cowboy Bebop                       0\n",
       "Cowboy Bebop: Tengoku no Tobira    1\n",
       "Trigun                             2\n",
       "Witch Hunter Robin                 3\n",
       "Bouken Ou Beet                     4\n",
       "Eyeshield 21                       5\n",
       "Hachimitsu to Clover               6\n",
       "Hungry Heart: Wild Striker         7\n",
       "Initial D Fourth Stage             8\n",
       "Monster                            9\n",
       "dtype: int64"
      ]
     },
     "execution_count": 16,
     "metadata": {},
     "output_type": "execute_result"
    }
   ],
   "source": [
    "indices[:10]"
   ]
  },
  {
   "cell_type": "code",
   "execution_count": 17,
   "id": "e904e33a",
   "metadata": {},
   "outputs": [],
   "source": [
    "#This is a function that takes in anime names as input and outputs most similar anime\n",
    "def get_recommendations(Name, cosine_sim=cosine_sim):\n",
    "    #This gets the index of the anime that matches the name\n",
    "    idx = indices[Name]\n",
    "\n",
    "    #This gets the pairwsie similarity scores of all animes with that anime\n",
    "    sim_scores = list(enumerate(cosine_sim[idx]))\n",
    "\n",
    "    #This sorts the anime based on the similarity scores\n",
    "    sim_scores = sorted(sim_scores, key=lambda x: x[1], reverse=True)\n",
    "\n",
    "    #This gets the scores of the 10 most similar anime\n",
    "    sim_scores = sim_scores[1:11]\n",
    "\n",
    "    #This gets the anime indices\n",
    "    anime_indices = [i[0] for i in sim_scores]\n",
    "\n",
    "    #This returns the top 10 most similar anime\n",
    "    return metadata['Name'].iloc[anime_indices]"
   ]
  },
  {
   "cell_type": "code",
   "execution_count": 18,
   "id": "f4ea5a32",
   "metadata": {},
   "outputs": [
    {
     "data": {
      "text/plain": [
       "9887                 Pokemon: Pikachu to Pokemon Ongakutai\n",
       "1385                   Pokemon: Senritsu no Mirage Pokemon\n",
       "4170                  Pokemon: Odoru Pokemon Himitsu Kichi\n",
       "8054                                            Pokemon XY\n",
       "11019                                         Pokemon XY&Z\n",
       "16105                                       Pokemon (2019)\n",
       "12464                                  Pokemon Generations\n",
       "8241                                   Pokemon: The Origin\n",
       "2014     Pokemon Movie 09: Pokemon Ranger to Umi no Ouj...\n",
       "1016     Pokemon Movie 02: Maboroshi no Pokemon Lugia B...\n",
       "Name: Name, dtype: object"
      ]
     },
     "execution_count": 18,
     "metadata": {},
     "output_type": "execute_result"
    }
   ],
   "source": [
    "get_recommendations('Pokemon')"
   ]
  },
  {
   "cell_type": "code",
   "execution_count": 19,
   "id": "01e7754e",
   "metadata": {},
   "outputs": [],
   "source": [
    "#This loads the anime summaries\n",
    "summary = pd.read_csv('animeSummary.csv')\n",
    "\n",
    "#This converts IDs to int. and is needed for merging\n",
    "summary['MAL_ID'] = summary['MAL_ID'].astype('int')\n",
    "metadata['MAL_ID'] = metadata['MAL_ID'].astype('int')\n",
    "\n",
    "\n",
    "#This merges the summaries into my main metadata dataframe\n",
    "metadata = metadata.merge(summary, on='MAL_ID')"
   ]
  },
  {
   "cell_type": "code",
   "execution_count": 20,
   "id": "65fc1c6a",
   "metadata": {},
   "outputs": [
    {
     "data": {
      "text/html": [
       "<div>\n",
       "<style scoped>\n",
       "    .dataframe tbody tr th:only-of-type {\n",
       "        vertical-align: middle;\n",
       "    }\n",
       "\n",
       "    .dataframe tbody tr th {\n",
       "        vertical-align: top;\n",
       "    }\n",
       "\n",
       "    .dataframe thead th {\n",
       "        text-align: right;\n",
       "    }\n",
       "</style>\n",
       "<table border=\"1\" class=\"dataframe\">\n",
       "  <thead>\n",
       "    <tr style=\"text-align: right;\">\n",
       "      <th></th>\n",
       "      <th>MAL_ID</th>\n",
       "      <th>Name_x</th>\n",
       "      <th>Score_x</th>\n",
       "      <th>Genres_x</th>\n",
       "      <th>English name</th>\n",
       "      <th>Japanese name</th>\n",
       "      <th>Type</th>\n",
       "      <th>Episodes</th>\n",
       "      <th>Aired</th>\n",
       "      <th>Premiered</th>\n",
       "      <th>...</th>\n",
       "      <th>Score-6</th>\n",
       "      <th>Score-5</th>\n",
       "      <th>Score-4</th>\n",
       "      <th>Score-3</th>\n",
       "      <th>Score-2</th>\n",
       "      <th>Score-1</th>\n",
       "      <th>Name_y</th>\n",
       "      <th>Score_y</th>\n",
       "      <th>Genres_y</th>\n",
       "      <th>sypnopsis</th>\n",
       "    </tr>\n",
       "  </thead>\n",
       "  <tbody>\n",
       "    <tr>\n",
       "      <th>0</th>\n",
       "      <td>1</td>\n",
       "      <td>Cowboy Bebop</td>\n",
       "      <td>8.78</td>\n",
       "      <td>Action, Adventure, Comedy, Drama, Sci-Fi, Space</td>\n",
       "      <td>Cowboy Bebop</td>\n",
       "      <td>カウボーイビバップ</td>\n",
       "      <td>TV</td>\n",
       "      <td>26</td>\n",
       "      <td>Apr 3, 1998 to Apr 24, 1999</td>\n",
       "      <td>Spring 1998</td>\n",
       "      <td>...</td>\n",
       "      <td>20688</td>\n",
       "      <td>8904</td>\n",
       "      <td>3184</td>\n",
       "      <td>1357</td>\n",
       "      <td>741</td>\n",
       "      <td>1580</td>\n",
       "      <td>Cowboy Bebop</td>\n",
       "      <td>8.78</td>\n",
       "      <td>Action, Adventure, Comedy, Drama, Sci-Fi, Space</td>\n",
       "      <td>In the year 2071, humanity has colonized sever...</td>\n",
       "    </tr>\n",
       "    <tr>\n",
       "      <th>1</th>\n",
       "      <td>5</td>\n",
       "      <td>Cowboy Bebop: Tengoku no Tobira</td>\n",
       "      <td>8.39</td>\n",
       "      <td>Action, Drama, Mystery, Sci-Fi, Space</td>\n",
       "      <td>Cowboy Bebop:The Movie</td>\n",
       "      <td>カウボーイビバップ 天国の扉</td>\n",
       "      <td>Movie</td>\n",
       "      <td>1</td>\n",
       "      <td>Sep 1, 2001</td>\n",
       "      <td>4</td>\n",
       "      <td>...</td>\n",
       "      <td>5805</td>\n",
       "      <td>1877</td>\n",
       "      <td>577</td>\n",
       "      <td>221</td>\n",
       "      <td>109</td>\n",
       "      <td>379</td>\n",
       "      <td>Cowboy Bebop: Tengoku no Tobira</td>\n",
       "      <td>8.39</td>\n",
       "      <td>Action, Drama, Mystery, Sci-Fi, Space</td>\n",
       "      <td>other day, another bounty—such is the life of ...</td>\n",
       "    </tr>\n",
       "  </tbody>\n",
       "</table>\n",
       "<p>2 rows × 39 columns</p>\n",
       "</div>"
      ],
      "text/plain": [
       "   MAL_ID                           Name_x  Score_x  \\\n",
       "0       1                     Cowboy Bebop     8.78   \n",
       "1       5  Cowboy Bebop: Tengoku no Tobira     8.39   \n",
       "\n",
       "                                          Genres_x            English name  \\\n",
       "0  Action, Adventure, Comedy, Drama, Sci-Fi, Space            Cowboy Bebop   \n",
       "1            Action, Drama, Mystery, Sci-Fi, Space  Cowboy Bebop:The Movie   \n",
       "\n",
       "    Japanese name   Type  Episodes                        Aired    Premiered  \\\n",
       "0       カウボーイビバップ     TV        26  Apr 3, 1998 to Apr 24, 1999  Spring 1998   \n",
       "1  カウボーイビバップ 天国の扉  Movie         1                  Sep 1, 2001            4   \n",
       "\n",
       "   ... Score-6 Score-5 Score-4 Score-3 Score-2 Score-1  \\\n",
       "0  ...   20688    8904    3184    1357     741    1580   \n",
       "1  ...    5805    1877     577     221     109     379   \n",
       "\n",
       "                            Name_y  Score_y  \\\n",
       "0                     Cowboy Bebop     8.78   \n",
       "1  Cowboy Bebop: Tengoku no Tobira     8.39   \n",
       "\n",
       "                                          Genres_y  \\\n",
       "0  Action, Adventure, Comedy, Drama, Sci-Fi, Space   \n",
       "1            Action, Drama, Mystery, Sci-Fi, Space   \n",
       "\n",
       "                                           sypnopsis  \n",
       "0  In the year 2071, humanity has colonized sever...  \n",
       "1  other day, another bounty—such is the life of ...  \n",
       "\n",
       "[2 rows x 39 columns]"
      ]
     },
     "execution_count": 20,
     "metadata": {},
     "output_type": "execute_result"
    }
   ],
   "source": [
    "#This prints the first two anime of my newly merged metadata\n",
    "metadata.head(2)"
   ]
  },
  {
   "cell_type": "markdown",
   "id": "ad15b847",
   "metadata": {},
   "source": [
    " # 4th Year A.I. Report\n",
    "   ## Recommender Systems\n",
    "   ### Mark Hurley – N00182059\n"
   ]
  },
  {
   "cell_type": "markdown",
   "id": "e3df7a9f",
   "metadata": {},
   "source": [
    "### Introduction\n",
    "\n",
    "‘Every aspect of learning or any other feature of intelligence can in principle be so precisely described that a machine can be made to simulate it. An attempt will be made to find how to make machines use language, form abstractions, and concepts, solve kinds of problems now reserved for humans, and improve themselves.’ – John McCarthy 1950 Inventor of the term Artificial Intelligence.\n",
    "First off I’ll with the definition of AI (Artificial Intelligence) this is Intelligence that comes from machines and machinery. So far scientists and researchers in this field are trying to replicate human speech and intelligence with this and ultimately try and give a machine the ability to think for itself. \n",
    "A brief history of recommender systems (RS’s): The first Recommender System concept was used in 1979, in a system called Grundy, which was basically a computer librarian that suggested a book for the users to read. Then during the early 1990’s the first commercial Recommender System known as Tapestry. Then during the early 1990’s a recommender system known as GroupLens which helped people find their preferred articles at the University of Minnesota. Moving into the late 1990’s Amazon implemented the Amazon Collaborative Filtering. Since then Collaborative Filtering Recommender Systems became very popular. Then in 2006 one of the most popular recommender system competitions ran by Netflix gave away 1 million dollars to who ever could make the best recommendation system.\n",
    "\n"
   ]
  },
  {
   "cell_type": "markdown",
   "id": "8a0e30ef",
   "metadata": {},
   "source": [
    "\n",
    "### Applications of AI\n",
    "\n",
    "The field of AI can be broken down into mainly 5 different fields: Computer Science, Engineering, Philosophy, Medicine and Language. The section I am focusing on for this project is Language. \n",
    "Computer Science: Covers the development of algorithms and approach’s that solve problems that couldn’t be interacted with.\n",
    "Engineering: Covers the building of Robotics that can recognise, adapt and react to their environment and change they act accordingly.\n",
    "Philosophy: Covers the debate of what it means to be intelligent and if humans can actually make something  with true intelligence.\n",
    "Medicine: Covers the use of AI applications that are used by Doctors and researchers to help diagnosing a multitude of patients.\n",
    "Language: Covers the work of linguists who want to use AI to help machines recognize human speech and speech patterns and so that they can respond to requests that are spoken.\n"
   ]
  },
  {
   "cell_type": "markdown",
   "id": "1be3abd4",
   "metadata": {},
   "source": [
    "#### Strengths/Limitations\n",
    "One of the strengths of AI is the reduction of human error and will to more results based purely on data and statistics. It could also help prevent the loss of human lives by instead replacing dangerous jobs with machines that could fill that purpose instead eliminating the risk factor, it would also help get the more mundane and repetitive jobs done more effectively since there would be no humans to get tired of that particular job and only put in half the amount of work. Machines are also available 24/7 and would not need to stop working as often as humans(apart from maintenance time) since humans can only work around 6 – 8 hours a day on average. AI can also make decisions faster than humans which means its more efficient at tasks.\n",
    "\n",
    "Some of the limitations with AI includes the cost of actually creating and maintaining these AI. Another problem is that it would eventually leave plenty of people with no jobs since in the long run it would be more cost effective to have machines and AI to do the work of people. Also AI doesn’t have any feelings or empathy/sympathy which means it could be cruel and unforgiving all for the sake of efficiency.\n"
   ]
  },
  {
   "cell_type": "markdown",
   "id": "93ec0e7d",
   "metadata": {},
   "source": [
    "## Recommender Systems\n",
    "### •\tContent-Based Approach\n",
    "Content-Based recommender systems tend to use extra information about users and items. This filtering technique makes use of the items elements to recommend different things like what the user enjoys and depending on their past activities or criticism. Using the example of a movie recommender system, we can use extra information like the users age, sex, job etc. and the additional information used for movies such as the actors, writers and directors. The central thinking behind content-based systems is to attempt to make a model that is based on the available features that can explain the users interactions with various items.\n",
    "### •\tCollaborative Approach\n",
    "Collaborative recommender systems are a method of filtering recommendations to the user based on their past interests, searches and watches that have been recorded. This method also tends to find what other users with similar tastes would like to have recommended to them and in order to achieve they group the users with these similar tastes into the same group and recommend each user based on what their groups are like. The central thinking that oversees the collaborative methods is that through the past interactions that the users have with items when refined through this system it becomes enough to find similar users or items to make predictions depending on these facts and understandings.\n",
    "\n"
   ]
  },
  {
   "cell_type": "markdown",
   "id": "d1e24ae3",
   "metadata": {},
   "source": [
    "## Anime Recommender\n",
    "### •\tDescription\n",
    "The recommender system I decided to develop was a content based recommender system that would recommend various Anime to people based on what titles people are searching, it’ll recommend similar Anime based on title or genre. I decided to pick an Anime recommender system as I believe it’s important for people to be able to find new Anime to watch in an easy and efficient way.\n",
    "### •\tImplementation\n",
    "When it came to creating my recommender system I followed the guide from DataCamp, while replacing that sample data set of movies with a new data set of various Anime including movies and tv shows. I also modified this new recommender system to recommend anime that have a similar name and genre. \n",
    "\n",
    "I started off by loading my Anime dataset using Pandas Dataframe library, this library is used for manipulation of data and analysis. Next I had it print out the first three titles to make sure it loaded my dataset.\n",
    "\n",
    "Once panda was imported and my dataset was working and loaded correctly I then moved on to calculate the mean of all of the Anime ranks and then I calculated the scores of each anime in the 90th percentile.\n",
    "\n",
    "Now that I have the mean figured out I then filter out the scores that are greater than or equal to 7.45. The .copy method is used to make sure that the new q_anime Dataframe that’s made is completely separate from the original anime dataset which means that changes made to it won’t affect the original dataset.\n",
    "\n",
    "Next I used a formula to compute the weighted rating of each anime. Then I defined a new feature which I called favourites which will be calculated by applying that function to my DataSet.\n",
    "\n",
    "Following that I then sorted out my dataset in a descending order based on the score of the Anime, so it would display the highest ranked anime and then go down through all of the top 15 highest scored anime of all time. Then I print out the first 5 gneres of the first 5 anime in the dataset and using this information I will pair other anime with a similar overall score and related genre in order to recommend a new anime to the user. \n",
    "\n",
    "I do this by computing the Term Frequency-Inverse Document Frequency TF-IDF for every document. I start by importing the TF-IDF module using scikit-learn, then I remove stop words and replace non number values with a blank string. Lastly I construct the TF-IDF matrix on the data.\n",
    "\n",
    "Next I use the cosine similarity to calculate a quantity of numbers that finds similarities between two anime. Then I’ll use sklearn’s linear_kernel instead od the cosine similarities because it’s faster.\n",
    "\n",
    "Then I will define a function that will take the name of an anime as an input and have it output 10 similar anime. Next I will get the index of the anime given it’s title, then I’ll get the list of cosine similarity scores for that individual anime then convert that into a lost of tuples where the first component is its position and the second is it’s similarity score. Next I’ll get the top 10 components of the list and return the appropriate names to the indices of the top components.  \n",
    "\n",
    "After getting that all up and working I then work on loading and merging in a new dataset that features additional information about each anime such as the summaries and displaying the first 2 summaries to ensure all is working correctly.\n"
   ]
  },
  {
   "cell_type": "markdown",
   "id": "b9a02303",
   "metadata": {},
   "source": [
    "## References\n",
    "Kumar, S. (2019, November 25. )Advantages and Disadvantages of Artificial Intelligence. Towards Data Science. https://towardsdatascience.com/advantages-and-disadvantages-of-artificial-intelligence-182a5ef6588c\n",
    "\n",
    "Dey, V. (2021, August 25). Collaborative Filtering Vs Content-Based Filtering for Recommender Systems. Analytics India Mag. https://analyticsindiamag.com/collaborative-filtering-vs-content-based-filtering-for-recommender-systems/\n",
    "\n",
    "Qomariyah, N. N. (2020, November 3). Definition and History of recommender systems. Binus University International. . https://towardsdatascience.com/advantages-and-disadvantages-of-artificial-intelligence-182a5ef6588c\n",
    "\n",
    "Sharma, A. (2020, May 29). Beginner Tutorial: Recommender Systems in Python. Datacamp. https://www.datacamp.com/community/tutorials/recommender-systems-python\n"
   ]
  },
  {
   "cell_type": "code",
   "execution_count": null,
   "id": "7cd13e2a",
   "metadata": {},
   "outputs": [],
   "source": []
  }
 ],
 "metadata": {
  "kernelspec": {
   "display_name": "Python 3",
   "language": "python",
   "name": "python3"
  },
  "language_info": {
   "codemirror_mode": {
    "name": "ipython",
    "version": 3
   },
   "file_extension": ".py",
   "mimetype": "text/x-python",
   "name": "python",
   "nbconvert_exporter": "python",
   "pygments_lexer": "ipython3",
   "version": "3.8.8"
  }
 },
 "nbformat": 4,
 "nbformat_minor": 5
}
